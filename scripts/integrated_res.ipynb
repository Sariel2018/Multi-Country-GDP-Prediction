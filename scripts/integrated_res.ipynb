{
 "cells": [
  {
   "cell_type": "code",
   "execution_count": null,
   "id": "08bf77d7-c43a-4589-8881-ee20a820201f",
   "metadata": {},
   "outputs": [],
   "source": [
    "import pandas as pd\n",
    "import numpy as np\n",
    "import os "
   ]
  },
  {
   "cell_type": "code",
   "execution_count": null,
   "id": "9dba790c-6e6e-4511-8ba5-c7a3436251d9",
   "metadata": {},
   "outputs": [],
   "source": [
    "file_path = 'checkpoints_mlp/'"
   ]
  },
  {
   "cell_type": "code",
   "execution_count": null,
   "id": "217e8c68-6d87-4099-b464-49f96ebd492c",
   "metadata": {},
   "outputs": [],
   "source": [
    "df_list = []\n",
    "for file in os.listdir(file_path):\n",
    "    if '.csv' in file:\n",
    "        print(file)\n",
    "        df_temp = pd.read_csv(file_path + file, index_col=0)\n",
    "        df_temp['data'] = file.replace('_best_params_res.csv', '')\n",
    "        df_list.append(df_temp)"
   ]
  },
  {
   "cell_type": "code",
   "execution_count": null,
   "id": "c123412e-2979-4b13-9e4b-921152b70787",
   "metadata": {},
   "outputs": [],
   "source": []
  },
  {
   "cell_type": "code",
   "execution_count": null,
   "id": "15f27db0-a5ab-45db-a9be-cddc6e268d1d",
   "metadata": {},
   "outputs": [],
   "source": [
    "df_res = pd.concat(df_list)\n",
    "df_res"
   ]
  },
  {
   "cell_type": "code",
   "execution_count": null,
   "id": "3e718d75-aeab-4853-930a-f1853c6c3936",
   "metadata": {},
   "outputs": [],
   "source": []
  },
  {
   "cell_type": "code",
   "execution_count": null,
   "id": "9d671540-d142-4414-bde8-ca813f3f9f0c",
   "metadata": {},
   "outputs": [],
   "source": [
    "for col in ['final model mae', 'final model mse', 'final model rmse', 'final model mape',\n",
    " 'best val model mae', 'best val model mse', 'best val model rmse', 'best val model mape']:\n",
    "    df_res[col] = df_res[col].apply(lambda x: x.replace(')', '').replace('tensor(', ''))\n",
    "df_res"
   ]
  },
  {
   "cell_type": "code",
   "execution_count": null,
   "id": "332af696-ab49-4773-a74a-6aab495aeab4",
   "metadata": {},
   "outputs": [],
   "source": [
    "# df_res.to_excel('mlp_results.xlsx')"
   ]
  },
  {
   "cell_type": "code",
   "execution_count": null,
   "id": "37cb8b6a-0ad5-4967-a537-b34a19fe8ed7",
   "metadata": {},
   "outputs": [],
   "source": []
  },
  {
   "cell_type": "code",
   "execution_count": null,
   "id": "f81078f5-aa1f-4d1f-9eff-69ebbeb2b76e",
   "metadata": {},
   "outputs": [],
   "source": [
    "file_path = 'checkpoints_lstm/'"
   ]
  },
  {
   "cell_type": "code",
   "execution_count": null,
   "id": "5b901313-b34a-4a4a-bdb6-0bb7004d1c00",
   "metadata": {
    "scrolled": true
   },
   "outputs": [],
   "source": [
    "df_list = []\n",
    "for file in os.listdir(file_path):\n",
    "    if '.csv' in file:\n",
    "        print(file)\n",
    "        df_temp = pd.read_csv(file_path + file, index_col=0)\n",
    "        df_temp['data'] = file.replace('_best_params_res.csv', '')\n",
    "        df_list.append(df_temp)"
   ]
  },
  {
   "cell_type": "code",
   "execution_count": null,
   "id": "262c1384-fcd6-4b5f-951f-c79c37bbd092",
   "metadata": {},
   "outputs": [],
   "source": [
    "df_res = pd.concat(df_list)\n",
    "df_res"
   ]
  },
  {
   "cell_type": "code",
   "execution_count": null,
   "id": "face12e4-af52-47f2-9b51-ce5266de92d7",
   "metadata": {},
   "outputs": [],
   "source": [
    "for col in ['final model mae', 'final model mse', 'final model rmse', 'final model mape',\n",
    " 'best val model mae', 'best val model mse', 'best val model rmse', 'best val model mape']:\n",
    "    df_res[col] = df_res[col].apply(lambda x: x.replace(')', '').replace('tensor(', ''))\n",
    "df_res"
   ]
  },
  {
   "cell_type": "code",
   "execution_count": null,
   "id": "08af6e03-844f-4595-ba83-3c0d57b6d48e",
   "metadata": {},
   "outputs": [],
   "source": []
  },
  {
   "cell_type": "code",
   "execution_count": null,
   "id": "9a8999dd-6cb9-47a3-896f-173eaf5df1af",
   "metadata": {},
   "outputs": [],
   "source": [
    "# df_res.to_excel('lstm_results.xlsx')"
   ]
  },
  {
   "cell_type": "code",
   "execution_count": null,
   "id": "cbf02852-8b71-47d6-a52e-cc868d1cb99c",
   "metadata": {},
   "outputs": [],
   "source": []
  },
  {
   "cell_type": "code",
   "execution_count": null,
   "id": "156c2be5-3307-45f2-af1c-6dfb6fdb0ad2",
   "metadata": {},
   "outputs": [],
   "source": []
  },
  {
   "cell_type": "code",
   "execution_count": null,
   "id": "f3dd7188-a6af-4210-900c-a30d110b4a91",
   "metadata": {},
   "outputs": [],
   "source": [
    "import pandas as pd\n",
    "import numpy as np\n",
    "import os "
   ]
  },
  {
   "cell_type": "code",
   "execution_count": null,
   "id": "ccf0f8a2-fced-491d-a65e-31aa267e35a4",
   "metadata": {},
   "outputs": [],
   "source": [
    "file_path = 'checkpoints_transformer/'"
   ]
  },
  {
   "cell_type": "code",
   "execution_count": null,
   "id": "fc8fe8c6-8daa-4179-9abd-3445f41ffb0a",
   "metadata": {},
   "outputs": [],
   "source": [
    "df_list = []\n",
    "for file in os.listdir(file_path):\n",
    "    if '.csv' in file:\n",
    "        print(file)\n",
    "        df_temp = pd.read_csv(file_path + file, index_col=0)\n",
    "        df_temp['data'] = file.replace('_best_params_res.csv', '')\n",
    "        df_list.append(df_temp)"
   ]
  },
  {
   "cell_type": "code",
   "execution_count": null,
   "id": "d2dabfb4-a51a-4b82-adad-39f5922fcc95",
   "metadata": {},
   "outputs": [],
   "source": [
    "df_res = pd.concat(df_list)\n",
    "df_res"
   ]
  },
  {
   "cell_type": "code",
   "execution_count": null,
   "id": "843ef6d5-aa23-496d-91b2-7034caae0793",
   "metadata": {},
   "outputs": [],
   "source": [
    "for col in ['final model mae', 'final model mse', 'final model rmse', 'final model mape',\n",
    " 'best val model mae', 'best val model mse', 'best val model rmse', 'best val model mape']:\n",
    "    df_res[col] = df_res[col].apply(lambda x: x.replace(')', '').replace('tensor(', ''))\n",
    "df_res"
   ]
  },
  {
   "cell_type": "code",
   "execution_count": null,
   "id": "4f04091c-d536-477c-a8c9-2e69e3a0c01b",
   "metadata": {},
   "outputs": [],
   "source": [
    "df_res.to_excel('transformer_res.xlsx')"
   ]
  },
  {
   "cell_type": "code",
   "execution_count": null,
   "id": "2bdf7a45-575b-4321-a916-1a36f93d24c4",
   "metadata": {},
   "outputs": [],
   "source": []
  },
  {
   "cell_type": "code",
   "execution_count": null,
   "id": "0049b4a2-9bc1-413f-8534-d88249a35e69",
   "metadata": {},
   "outputs": [],
   "source": []
  },
  {
   "cell_type": "code",
   "execution_count": null,
   "id": "bf8e450b-2a77-4d6d-a859-3b7ce5a9e3cd",
   "metadata": {},
   "outputs": [],
   "source": []
  }
 ],
 "metadata": {
  "kernelspec": {
   "display_name": "py38",
   "language": "python",
   "name": "py38"
  },
  "language_info": {
   "codemirror_mode": {
    "name": "ipython",
    "version": 3
   },
   "file_extension": ".py",
   "mimetype": "text/x-python",
   "name": "python",
   "nbconvert_exporter": "python",
   "pygments_lexer": "ipython3",
   "version": "3.8.19"
  }
 },
 "nbformat": 4,
 "nbformat_minor": 5
}
