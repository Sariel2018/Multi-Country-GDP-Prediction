{
 "cells": [
  {
   "cell_type": "code",
   "execution_count": null,
   "id": "688bcc0e-41d8-4ed6-a681-ecae983a7041",
   "metadata": {},
   "outputs": [],
   "source": [
    "import os\n",
    "import pandas as pd\n",
    "import numpy as np"
   ]
  },
  {
   "cell_type": "code",
   "execution_count": null,
   "id": "2fa84d4e-5c77-4a91-a300-e8c0b8b22e67",
   "metadata": {},
   "outputs": [],
   "source": [
    "data_v = [\n",
    "       'Rural population growth (annual %)',\n",
    "       'General government final consumption expenditure (annual % growth)',\n",
    "       'Consumer price index (2010 = 100)',\n",
    "       'Exports of goods and services (annual % growth)_x',\n",
    "       'Urban population growth (annual %)',\n",
    "       'Population growth (annual %)', 'Inflation, GDP deflator (annual %)',\n",
    "       'Imports of goods and services (annual % growth)',\n",
    "       'Final consumption expenditure (annual % growth)',\n",
    "       'Unemployment, total (% of total labor force) (national estimate)',\n",
    "       'Exports of goods and services (annual % growth)_y',\n",
    "       'Inflation, consumer prices (annual %)',\n",
    "       'Gross fixed capital formation (annual % growth)',\n",
    "       'Households and NPISHs Final consumption expenditure (annual % growth)']"
   ]
  },
  {
   "cell_type": "code",
   "execution_count": null,
   "id": "8051b12b-86f3-4e5f-8c66-241b995bd8ea",
   "metadata": {},
   "outputs": [],
   "source": []
  },
  {
   "cell_type": "code",
   "execution_count": null,
   "id": "708d6227-8ec6-4190-8171-32fd6bb29c34",
   "metadata": {},
   "outputs": [],
   "source": [
    "prompt_str = 'In this year, the index is {value}.'"
   ]
  },
  {
   "cell_type": "code",
   "execution_count": null,
   "id": "d5dbb301-0bac-44c3-8712-6ffa5d608fa7",
   "metadata": {},
   "outputs": [],
   "source": [
    "prompt_dict = {\n",
    "    \"Rural population growth (annual %)\": \"The index 'Rural population growth (annual %)' measures the annual percentage increase or decrease in the rural population of a country. \", \n",
    "    \"General government final consumption expenditure (annual % growth)\": \"The index 'General government final consumption expenditure (annual % growth)' measures the annual percentage increase or decrease in government spending on goods and services that are used for providing public services. \", \n",
    "    \"Consumer price index (2010 = 100)\": \"The index 'Consumer price index (2010 = 100)' measures the average change over time in the prices paid by consumers for a basket of goods and services, with the base year set to 2010. This indicator is essential for tracking inflation, assessing the cost of living, and guiding monetary policy decisions. \",\n",
    "    \"Exports of goods and services (annual % growth)\": \"The index 'Exports of goods and services (annual % growth)' measures the annual percentage increase or decrease in the value of a country's exports of goods and services. \",\n",
    "    \"Urban population growth (annual %)\": \"The index 'Urban population growth (annual %)' measures the annual percentage increase or decrease in the population residing in urban areas. \", \n",
    "    \"Population growth (annual %)\": \"The index 'Population growth (annual %)' measures the annual percentage increase or decrease in the total population of a country. \",\n",
    "    \"Inflation, GDP deflator (annual %)\": \"The index 'Inflation, GDP deflator (annual %)' measures the annual percentage change in the price level of all new, domestically produced, final goods and services in an economy. \",\n",
    "    \"Imports of goods and services (annual % growth)\": \"The index 'Imports of goods and services (annual % growth)' measures the annual percentage increase or decrease in the value of a country's imports of goods and services. \", \n",
    "    \"Final consumption expenditure (annual % growth)\": \"The index 'Final consumption expenditure (annual % growth)' measures the annual percentage change in the total value of all goods and services consumed by households and government. \", \n",
    "    \"Unemployment, total (% of total labor force) (national estimate)\": \"The index 'Unemployment, total (% of total labor force) (national estimate)' measures the percentage of the total labor force that is unemployed and actively seeking employment, based on national estimates. \",\n",
    "    \"Inflation, consumer prices (annual %)\": \"The index 'Inflation, consumer prices (annual %)' measures the annual percentage change in the average level of prices for consumer goods and services. \", \n",
    "    \"Gross fixed capital formation (annual % growth)\": \"The index 'Gross fixed capital formation (annual % growth)' measures the annual percentage increase or decrease in investment in fixed assets such as buildings, machinery, and infrastructure. \",\n",
    "    \"Households and NPISHs Final consumption expenditure (annual % growth)\": \"The index 'Households and NPISHs Final consumption expenditure (annual % growth)' measures the annual percentage change in the spending by households and Non-Profit Institutions Serving Households (NPISHs) on goods and services. \", \n",
    "\n",
    "}"
   ]
  },
  {
   "cell_type": "code",
   "execution_count": null,
   "id": "124106b0-f3f2-4863-9aeb-5db5b8944e7f",
   "metadata": {},
   "outputs": [],
   "source": [
    "len(prompt_dict.keys())"
   ]
  },
  {
   "cell_type": "code",
   "execution_count": null,
   "id": "f5f4ecc4-428a-4d60-99ee-c34e4af8fc05",
   "metadata": {},
   "outputs": [],
   "source": []
  },
  {
   "cell_type": "code",
   "execution_count": null,
   "id": "e26b6559-ec6d-4774-8f6d-fa1421000a97",
   "metadata": {},
   "outputs": [],
   "source": [
    "df_mlp_data = pd.read_excel('integrated_yearly_data.xlsx', index_col=0)\n",
    "df_mlp_data.columns"
   ]
  },
  {
   "cell_type": "code",
   "execution_count": null,
   "id": "81af6e21-75d8-4ccd-9bcf-6a533d0d1dcf",
   "metadata": {},
   "outputs": [],
   "source": [
    "df_mlp_data =  df_mlp_data[[\n",
    "       'Country Name', 'Country Code', 'year',\n",
    "       'Rural population growth (annual %)',\n",
    "       'General government final consumption expenditure (annual % growth)',\n",
    "       'Consumer price index (2010 = 100)',\n",
    "       'Exports of goods and services (annual % growth)_x',\n",
    "       'Urban population growth (annual %)',\n",
    "       'Population growth (annual %)', 'Inflation, GDP deflator (annual %)',\n",
    "       'Imports of goods and services (annual % growth)',\n",
    "       'Final consumption expenditure (annual % growth)',\n",
    "       'Unemployment, total (% of total labor force) (national estimate)',\n",
    "       'Inflation, consumer prices (annual %)',\n",
    "       'Gross fixed capital formation (annual % growth)',\n",
    "       'Households and NPISHs Final consumption expenditure (annual % growth)',\n",
    "       'GDP growth (annual %)'\n",
    "]]\n",
    "df_mlp_data.columns = [\n",
    "       'Country Name', 'Country Code', 'year',\n",
    "       'Rural population growth (annual %)',\n",
    "       'General government final consumption expenditure (annual % growth)',\n",
    "       'Consumer price index (2010 = 100)',\n",
    "       'Exports of goods and services (annual % growth)',\n",
    "       'Urban population growth (annual %)',\n",
    "       'Population growth (annual %)', 'Inflation, GDP deflator (annual %)',\n",
    "       'Imports of goods and services (annual % growth)',\n",
    "       'Final consumption expenditure (annual % growth)',\n",
    "       'Unemployment, total (% of total labor force) (national estimate)',\n",
    "       'Inflation, consumer prices (annual %)',\n",
    "       'Gross fixed capital formation (annual % growth)',\n",
    "       'Households and NPISHs Final consumption expenditure (annual % growth)',\n",
    "       'GDP growth (annual %)'\n",
    "]\n"
   ]
  },
  {
   "cell_type": "code",
   "execution_count": null,
   "id": "0ed3284d-764b-4025-9228-108233ebc77e",
   "metadata": {},
   "outputs": [],
   "source": [
    "df_mlp_data.columns"
   ]
  },
  {
   "cell_type": "code",
   "execution_count": null,
   "id": "540330a7-657f-42ab-bb6a-17fcf2de144f",
   "metadata": {},
   "outputs": [],
   "source": [
    "len(df_mlp_data.columns)"
   ]
  },
  {
   "cell_type": "code",
   "execution_count": null,
   "id": "c9a2180d-62e0-4950-9a03-6ca6b32d6715",
   "metadata": {},
   "outputs": [],
   "source": [
    "df_mlp_data.head()"
   ]
  },
  {
   "cell_type": "code",
   "execution_count": null,
   "id": "959daf26-8f7e-4241-aba7-9434095fffa7",
   "metadata": {},
   "outputs": [],
   "source": []
  },
  {
   "cell_type": "code",
   "execution_count": null,
   "id": "c024a19d-5308-4510-92dc-dbd471277273",
   "metadata": {},
   "outputs": [],
   "source": [
    "select_v_list = [\n",
    "       'Rural population growth (annual %)',\n",
    "       'General government final consumption expenditure (annual % growth)',\n",
    "       'Consumer price index (2010 = 100)',\n",
    "       'Exports of goods and services (annual % growth)',\n",
    "       'Urban population growth (annual %)',\n",
    "       'Population growth (annual %)', 'Inflation, GDP deflator (annual %)',\n",
    "       'Imports of goods and services (annual % growth)',\n",
    "       'Final consumption expenditure (annual % growth)',\n",
    "       'Unemployment, total (% of total labor force) (national estimate)',\n",
    "       'Inflation, consumer prices (annual %)',\n",
    "       'Gross fixed capital formation (annual % growth)',\n",
    "       'Households and NPISHs Final consumption expenditure (annual % growth)'\n",
    "]"
   ]
  },
  {
   "cell_type": "code",
   "execution_count": null,
   "id": "29ec5b1a-d19b-4e28-9f0c-1ce562bb85e6",
   "metadata": {},
   "outputs": [],
   "source": []
  },
  {
   "cell_type": "code",
   "execution_count": null,
   "id": "f4da4edb-0c90-4c08-8200-23e9dfda69d1",
   "metadata": {},
   "outputs": [],
   "source": [
    "def norm(col):\n",
    "    return (col - col.min())/(col.max() - col.min())"
   ]
  },
  {
   "cell_type": "code",
   "execution_count": null,
   "id": "1ffae9ba-64b8-4573-9ca8-03ed0344767e",
   "metadata": {},
   "outputs": [],
   "source": [
    "for v in select_v_list:\n",
    "    df_mlp_data[v + '_norm'] = df_mlp_data[[v]].apply(lambda col: norm(col), axis=0)\n",
    "    # break"
   ]
  },
  {
   "cell_type": "code",
   "execution_count": null,
   "id": "c0b62826-f61a-4b29-8550-220ba4dfd59a",
   "metadata": {},
   "outputs": [],
   "source": [
    "df_mlp_data.head()"
   ]
  },
  {
   "cell_type": "code",
   "execution_count": null,
   "id": "19d84801-635c-4342-9771-5737225f55e1",
   "metadata": {},
   "outputs": [],
   "source": [
    "df_weo = df_mlp_data.copy()"
   ]
  },
  {
   "cell_type": "markdown",
   "id": "a8f8694a-3e38-4641-adde-4a164a344639",
   "metadata": {},
   "source": [
    "## Load Model"
   ]
  },
  {
   "cell_type": "code",
   "execution_count": null,
   "id": "e6bf9f04-a541-4f90-9cf5-83dc65fcd84d",
   "metadata": {},
   "outputs": [],
   "source": [
    "import os"
   ]
  },
  {
   "cell_type": "code",
   "execution_count": null,
   "id": "537077e9-b2d2-4e36-aa2c-36afda7fca3a",
   "metadata": {},
   "outputs": [],
   "source": [
    "import torch\n",
    "import flash_attn\n",
    "from flash_attn import flash_attn_qkvpacked_func, flash_attn_func"
   ]
  },
  {
   "cell_type": "code",
   "execution_count": null,
   "id": "8f5d2494-438e-4d19-b0f5-909ab6e4b519",
   "metadata": {},
   "outputs": [],
   "source": [
    "from transformers import AutoTokenizer, AutoModel\n",
    "import torch\n",
    "import torchvision.transforms as T\n",
    "from PIL import Image\n",
    "\n",
    "from torchvision.transforms.functional import InterpolationMode\n",
    "\n",
    "\n",
    "IMAGENET_MEAN = (0.485, 0.456, 0.406)\n",
    "IMAGENET_STD = (0.229, 0.224, 0.225)\n",
    "\n",
    "\n",
    "def build_transform(input_size):\n",
    "    MEAN, STD = IMAGENET_MEAN, IMAGENET_STD\n",
    "    transform = T.Compose([\n",
    "        T.Lambda(lambda img: img.convert('RGB') if img.mode != 'RGB' else img),\n",
    "        T.Resize((input_size, input_size), interpolation=InterpolationMode.BICUBIC),\n",
    "        T.ToTensor(),\n",
    "        T.Normalize(mean=MEAN, std=STD)\n",
    "    ])\n",
    "    return transform\n",
    "\n",
    "\n",
    "def find_closest_aspect_ratio(aspect_ratio, target_ratios, width, height, image_size):\n",
    "    best_ratio_diff = float('inf')\n",
    "    best_ratio = (1, 1)\n",
    "    area = width * height\n",
    "    for ratio in target_ratios:\n",
    "        target_aspect_ratio = ratio[0] / ratio[1]\n",
    "        ratio_diff = abs(aspect_ratio - target_aspect_ratio)\n",
    "        if ratio_diff < best_ratio_diff:\n",
    "            best_ratio_diff = ratio_diff\n",
    "            best_ratio = ratio\n",
    "        elif ratio_diff == best_ratio_diff:\n",
    "            if area > 0.5 * image_size * image_size * ratio[0] * ratio[1]:\n",
    "                best_ratio = ratio\n",
    "    return best_ratio\n",
    "\n",
    "\n",
    "def dynamic_preprocess(image, min_num=1, max_num=6, image_size=448, use_thumbnail=False):\n",
    "    orig_width, orig_height = image.size\n",
    "    aspect_ratio = orig_width / orig_height\n",
    "\n",
    "    # calculate the existing image aspect ratio\n",
    "    target_ratios = set(\n",
    "        (i, j) for n in range(min_num, max_num + 1) for i in range(1, n + 1) for j in range(1, n + 1) if\n",
    "        i * j <= max_num and i * j >= min_num)\n",
    "    target_ratios = sorted(target_ratios, key=lambda x: x[0] * x[1])\n",
    "\n",
    "    # find the closest aspect ratio to the target\n",
    "    target_aspect_ratio = find_closest_aspect_ratio(\n",
    "        aspect_ratio, target_ratios, orig_width, orig_height, image_size)\n",
    "\n",
    "    # calculate the target width and height\n",
    "    target_width = image_size * target_aspect_ratio[0]\n",
    "    target_height = image_size * target_aspect_ratio[1]\n",
    "    blocks = target_aspect_ratio[0] * target_aspect_ratio[1]\n",
    "\n",
    "    # resize the image\n",
    "    resized_img = image.resize((target_width, target_height))\n",
    "    processed_images = []\n",
    "    for i in range(blocks):\n",
    "        box = (\n",
    "            (i % (target_width // image_size)) * image_size,\n",
    "            (i // (target_width // image_size)) * image_size,\n",
    "            ((i % (target_width // image_size)) + 1) * image_size,\n",
    "            ((i // (target_width // image_size)) + 1) * image_size\n",
    "        )\n",
    "        # split the image\n",
    "        split_img = resized_img.crop(box)\n",
    "        processed_images.append(split_img)\n",
    "    assert len(processed_images) == blocks\n",
    "    if use_thumbnail and len(processed_images) != 1:\n",
    "        thumbnail_img = image.resize((image_size, image_size))\n",
    "        processed_images.append(thumbnail_img)\n",
    "    return processed_images\n",
    "\n",
    "\n",
    "def load_image(image_file, input_size=448, max_num=6):\n",
    "    image = Image.open(image_file).convert('RGB')\n",
    "    transform = build_transform(input_size=input_size)\n",
    "    images = dynamic_preprocess(image, image_size=input_size, use_thumbnail=True, max_num=max_num)\n",
    "    pixel_values = [transform(image) for image in images]\n",
    "    pixel_values = torch.stack(pixel_values)\n",
    "    return pixel_values"
   ]
  },
  {
   "cell_type": "code",
   "execution_count": null,
   "id": "a197c7a7-cb45-4525-a2c5-786bacebbe66",
   "metadata": {},
   "outputs": [],
   "source": [
    "path = \"~/local_model/InternVL-Chat-V1-5\"\n",
    "\n",
    "model = AutoModel.from_pretrained(\n",
    "    path,\n",
    "    torch_dtype=torch.bfloat16,\n",
    "    low_cpu_mem_usage=True,\n",
    "    trust_remote_code=True,\n",
    "    device_map='auto').eval()\n",
    "\n",
    "tokenizer = AutoTokenizer.from_pretrained(path, trust_remote_code=True)\n",
    "\n",
    "generation_config = dict(\n",
    "    num_beams=1,\n",
    "    max_new_tokens=512,\n",
    "    do_sample=False,\n",
    ")"
   ]
  },
  {
   "cell_type": "code",
   "execution_count": null,
   "id": "f67b0583-bc38-43ce-87f8-2d42c03d4e47",
   "metadata": {},
   "outputs": [],
   "source": [
    "def chat_img(self, tokenizer, pixel_values, question, generation_config,\n",
    "         IMG_START_TOKEN='<img>', IMG_END_TOKEN='</img>', IMG_CONTEXT_TOKEN='<IMG_CONTEXT>'):\n",
    "\n",
    "    img_context_token_id = tokenizer.convert_tokens_to_ids(IMG_CONTEXT_TOKEN)\n",
    "    self.img_context_token_id = img_context_token_id\n",
    "    if tokenizer.convert_tokens_to_ids('<|im_end|>') != 0:\n",
    "        eos_token_id = tokenizer.convert_tokens_to_ids('<|im_end|>')  # 92542, InternLM2\n",
    "    else:\n",
    "        eos_token_id = tokenizer.eos_token_id\n",
    "\n",
    "    from internvl_chat.internvl.conversation import get_conv_template\n",
    "\n",
    "    template = get_conv_template(self.template)\n",
    "\n",
    "    image_bs = pixel_values.shape[0]\n",
    "    print(f'dynamic ViT batch size: {image_bs}')\n",
    "\n",
    "    history = []\n",
    "    image_tokens = IMG_START_TOKEN + IMG_CONTEXT_TOKEN * self.num_image_token * image_bs + IMG_END_TOKEN\n",
    "    question = image_tokens + '\\n' + question\n",
    "\n",
    "    template.append_message(template.roles[0], question)\n",
    "    template.append_message(template.roles[1], None)\n",
    "    query = template.get_prompt()\n",
    "    print(query)\n",
    "\n",
    "    model_inputs = tokenizer(query, return_tensors='pt')\n",
    "    input_ids = model_inputs['input_ids'].cuda()\n",
    "    attention_mask = model_inputs['attention_mask'].cuda()\n",
    "    generation_config['eos_token_id'] = eos_token_id\n",
    "    return input_ids, attention_mask, generation_config"
   ]
  },
  {
   "cell_type": "code",
   "execution_count": null,
   "id": "57720f6e-7001-433b-a326-58129b1f8353",
   "metadata": {},
   "outputs": [],
   "source": [
    "def chat_no_img(self, tokenizer, question, generation_config):\n",
    "\n",
    "    if tokenizer.convert_tokens_to_ids('<|im_end|>') != 0:\n",
    "        eos_token_id = tokenizer.convert_tokens_to_ids('<|im_end|>')  # 92542, InternLM2\n",
    "    else:\n",
    "        eos_token_id = tokenizer.eos_token_id\n",
    "\n",
    "    from internvl_chat.internvl.conversation import get_conv_template\n",
    "\n",
    "    template = get_conv_template(self.template)\n",
    "\n",
    "    template.append_message(template.roles[0], question)\n",
    "    template.append_message(template.roles[1], None)\n",
    "    query = template.get_prompt()\n",
    "    # print(query)\n",
    "    \n",
    "    model_inputs = tokenizer(query, return_tensors='pt')\n",
    "    input_ids = model_inputs['input_ids'].cuda()\n",
    "    attention_mask = model_inputs['attention_mask'].cuda()\n",
    "    generation_config['eos_token_id'] = eos_token_id\n",
    "\n",
    "    return input_ids, attention_mask, generation_config"
   ]
  },
  {
   "cell_type": "code",
   "execution_count": null,
   "id": "9bb591c0-21a0-4780-84de-f4b8d84e5e2d",
   "metadata": {},
   "outputs": [],
   "source": [
    "def get_representation(model, tokenizer, question, generation_config, pixel_values=None):\n",
    "    if pixel_values is not None:\n",
    "        input_ids, attention_mask, generation_config = chat_img(model, tokenizer, pixel_values, question, generation_config)\n",
    "    else:\n",
    "        input_ids, attention_mask, generation_config = chat_no_img(model, tokenizer, question, generation_config)\n",
    "\n",
    "    output = generate_test(model,\n",
    "            pixel_values=pixel_values,\n",
    "            input_ids=input_ids,\n",
    "            attention_mask=attention_mask,\n",
    "            output_hidden_states=True,\n",
    "            **generation_config\n",
    "        )\n",
    "    \n",
    "    return output.hidden_states[-1]"
   ]
  },
  {
   "cell_type": "code",
   "execution_count": null,
   "id": "33021672-395b-4e13-be98-79264537afd8",
   "metadata": {},
   "outputs": [],
   "source": [
    "from typing import Any, List, Optional, Tuple, Union"
   ]
  },
  {
   "cell_type": "code",
   "execution_count": null,
   "id": "50a4dc3a-0f94-42da-a239-1193f4a5ddc1",
   "metadata": {},
   "outputs": [],
   "source": [
    "from transformers import (AutoModel, GenerationConfig, LlamaForCausalLM,\n",
    "                          LlamaTokenizer)"
   ]
  },
  {
   "cell_type": "code",
   "execution_count": null,
   "id": "20b46115-17d4-4c69-8160-1e01293f0b2c",
   "metadata": {},
   "outputs": [],
   "source": [
    "@torch.no_grad()\n",
    "def generate_test(\n",
    "        self,\n",
    "        pixel_values: Optional[torch.FloatTensor] = None,\n",
    "        input_ids: Optional[torch.FloatTensor] = None,\n",
    "        attention_mask: Optional[torch.LongTensor] = None,\n",
    "        visual_features: Optional[torch.FloatTensor] = None,\n",
    "        generation_config: Optional[GenerationConfig] = None,\n",
    "        output_hidden_states: Optional[bool] = None,\n",
    "        return_dict: Optional[bool] = None,\n",
    "        **generate_kwargs,\n",
    ") -> torch.LongTensor:\n",
    "\n",
    "    # assert self.img_context_token_id is not None\n",
    "    if pixel_values is not None:\n",
    "        if visual_features is not None:\n",
    "            vit_embeds = visual_features\n",
    "        else:\n",
    "            vit_embeds = self.extract_feature(pixel_values)\n",
    "\n",
    "        input_embeds = self.language_model.get_input_embeddings()(input_ids)\n",
    "        B, N, C = input_embeds.shape\n",
    "        input_embeds = input_embeds.reshape(B * N, C)\n",
    "\n",
    "        input_ids = input_ids.reshape(B * N)\n",
    "        selected = (input_ids == self.img_context_token_id)\n",
    "        assert selected.sum() != 0\n",
    "        input_embeds[selected] = vit_embeds.reshape(-1, C).to(input_embeds.device)\n",
    "\n",
    "        input_embeds = input_embeds.reshape(B, N, C)\n",
    "    else:\n",
    "        input_embeds = self.language_model.get_input_embeddings()(input_ids)\n",
    "\n",
    "    output = self.language_model(\n",
    "        inputs_embeds=input_embeds,\n",
    "        attention_mask=attention_mask,\n",
    "        output_hidden_states=output_hidden_states,\n",
    "        return_dict=return_dict,\n",
    "        use_cache=True\n",
    "    )\n",
    "    return output"
   ]
  },
  {
   "cell_type": "code",
   "execution_count": null,
   "id": "2a80ce34-a9e0-4a2c-99e9-95309eccde38",
   "metadata": {},
   "outputs": [],
   "source": [
    "df_weo"
   ]
  },
  {
   "cell_type": "code",
   "execution_count": null,
   "id": "5b50ee02-bb2e-4b3c-89a2-18753ab76dcc",
   "metadata": {},
   "outputs": [],
   "source": [
    "country_list = df_weo['Country Name'].unique()\n",
    "country_list"
   ]
  },
  {
   "cell_type": "code",
   "execution_count": null,
   "id": "f87ab5af-d4f9-4287-9b49-19561c6311f1",
   "metadata": {},
   "outputs": [],
   "source": [
    "def get_prompt(v, value):\n",
    "    prompt = prompt_dict[v]\n",
    "    prompt = prompt + prompt_str\n",
    "    if '%' in v:\n",
    "        prompt = prompt[:-1] + ' %.'\n",
    "    return prompt.format(value=value)"
   ]
  },
  {
   "cell_type": "code",
   "execution_count": null,
   "id": "6ccf25dd-949e-47ab-b888-332b368ebbd4",
   "metadata": {},
   "outputs": [],
   "source": [
    "get_prompt('Rural population growth (annual %)', 3)"
   ]
  },
  {
   "cell_type": "code",
   "execution_count": null,
   "id": "b097fc07-3207-426e-907e-4b72b285d16c",
   "metadata": {},
   "outputs": [],
   "source": []
  },
  {
   "cell_type": "markdown",
   "id": "75bf6332-e5dd-459e-8f30-343d1663c721",
   "metadata": {},
   "source": [
    "## RUN"
   ]
  },
  {
   "cell_type": "code",
   "execution_count": null,
   "id": "4c8de9f4-8b88-4f24-a4d5-011b4295516f",
   "metadata": {},
   "outputs": [],
   "source": [
    "def run():\n",
    "    for country in country_list:\n",
    "        year_dict = {}\n",
    "        df_country = df_weo.loc[df_weo['Country Name'] == country]\n",
    "        year_list = df_country['year'].unique()\n",
    "\n",
    "        for year in year_list:\n",
    "            v_tensor_list = []\n",
    "            for i in range(len(select_v_list)):\n",
    "                v = select_v_list[i]\n",
    "            # for v in select_v_list:\n",
    "                value = df_country.loc[df_country['year'] == year][v].iloc[0]\n",
    "\n",
    "                if (np.isnan(value) == True) or (value == None):\n",
    "                    # v_tensor_list.append(np.zeros(6145))\n",
    "                    continue\n",
    "                    \n",
    "                else:\n",
    "                    norm_value = df_country.loc[df_country['year'] == year][v + '_norm'].iloc[0]\n",
    "                    value = \"%.4f\" % value\n",
    "                    prompt = get_prompt(v, value)\n",
    "\n",
    "                    tensor = get_representation(model, tokenizer, prompt, generation_config,\n",
    "                                                pixel_values=None)[-1][-1].cpu().float().numpy()\n",
    "                    tensor = np.append(tensor, i)\n",
    "                    tensor = np.append(tensor, norm_value)\n",
    "                    v_tensor_list.append(tensor)\n",
    "\n",
    "            year_dict[year] = [v_tensor_list, \n",
    "                               df_country.loc[df_country['year'] == year]['GDP growth (annual %)'].iloc[0]]\n",
    "        print(country)\n",
    "        pd.DataFrame(year_dict).to_json('results_mlp_13v_norm/' + country + '.jsonl')"
   ]
  },
  {
   "cell_type": "code",
   "execution_count": null,
   "id": "a298acb9-d105-4c0f-bc5d-86af1600185d",
   "metadata": {},
   "outputs": [],
   "source": [
    "run()"
   ]
  },
  {
   "cell_type": "code",
   "execution_count": null,
   "id": "f9c664c5-d912-422d-9417-0424ccccaf8c",
   "metadata": {},
   "outputs": [],
   "source": [
    "len(df_weo['Country Name'].unique())"
   ]
  },
  {
   "cell_type": "code",
   "execution_count": null,
   "id": "cdc27a16-83d7-4e0b-bd06-df0e6248edd7",
   "metadata": {},
   "outputs": [],
   "source": []
  },
  {
   "cell_type": "markdown",
   "id": "904a278d-d383-4e53-aa48-23cf18cc462c",
   "metadata": {},
   "source": [
    "## IF use light data"
   ]
  },
  {
   "cell_type": "code",
   "execution_count": null,
   "id": "f344ed34-35a7-4653-b1bf-b7f402253d6b",
   "metadata": {},
   "outputs": [],
   "source": [
    "df_code = pd.read_excel('../light_data/IMF_ISO.xlsx', header=None)\n",
    "df_code.columns = ['REF_AREA', 'ADM0_ISO']\n",
    "df_code"
   ]
  },
  {
   "cell_type": "code",
   "execution_count": null,
   "id": "d36dfed2-30d5-4fb0-96b9-cd7b459037f6",
   "metadata": {},
   "outputs": [],
   "source": [
    "df_light_data = pd.read_csv('../light_data/light_data.csv', index_col=0)\n",
    "df_light_data = df_light_data.merge(df_code, how='left', on='ADM0_ISO')\n",
    "df_light_data = df_light_data.dropna(subset=['REF_AREA'])\n",
    "df_light_data['REF_AREA'] = df_light_data['REF_AREA'].astype(int)\n",
    "df_light_data"
   ]
  },
  {
   "cell_type": "code",
   "execution_count": null,
   "id": "727d5913-b924-45d7-b658-fa9750afd5d9",
   "metadata": {},
   "outputs": [],
   "source": [
    "df_light_data = df_light_data.loc[(df_light_data['year_month'] >= 201301) & \\\n",
    "                                  (df_light_data['year_month'] <= 202312)]"
   ]
  },
  {
   "cell_type": "code",
   "execution_count": null,
   "id": "3a7ef7af-534b-4dc2-940d-7fd86fb9ded8",
   "metadata": {},
   "outputs": [],
   "source": [
    "df_light_data = pd.DataFrame(df_light_data.groupby(['ADM0_ISO', 'year_month', 'REF_AREA']).max('sum').reset_index())"
   ]
  },
  {
   "cell_type": "code",
   "execution_count": null,
   "id": "416bdc17-2cd1-4359-acca-e38bd74ebeda",
   "metadata": {},
   "outputs": [],
   "source": [
    "df_light_data['year'] = df_light_data['year_month'].apply(lambda x: int(str(x)[:4]))\n",
    "# df_light_data"
   ]
  },
  {
   "cell_type": "code",
   "execution_count": null,
   "id": "211739c7-9c8a-441a-b75a-0ea41f3dc41b",
   "metadata": {},
   "outputs": [],
   "source": [
    "df_light_data = df_light_data.groupby(['ADM0_ISO', 'REF_AREA', 'year']).mean().reset_index()\n",
    "df_light_data"
   ]
  },
  {
   "cell_type": "code",
   "execution_count": null,
   "id": "5d6af3e1-2a9d-4e34-b041-90673527b9c6",
   "metadata": {},
   "outputs": [],
   "source": [
    "df_light_data['norm'] = df_light_data[['mean']].apply(lambda col: norm(col), axis=0)\n",
    "df_light_data"
   ]
  },
  {
   "cell_type": "code",
   "execution_count": null,
   "id": "a6c0e4e0-23b7-4aaa-b11b-e5955d074ccc",
   "metadata": {},
   "outputs": [],
   "source": [
    "df_light_data['norm'] = df_light_data[['mean']].apply(lambda col: norm(col), axis=0)\n",
    "df_light_data"
   ]
  },
  {
   "cell_type": "code",
   "execution_count": null,
   "id": "872ee795-a99c-4237-8bb6-862b43ea0226",
   "metadata": {},
   "outputs": [],
   "source": [
    "def use_light_data(df_country, year):\n",
    "    try:\n",
    "        iso_code = df_country['REF_AREA'].iloc[0]\n",
    "        # print(iso_code)\n",
    "        # print(type(iso_code))\n",
    "        df_temp = df_light_data.loc[df_light_data['REF_AREA'] == iso_code]\n",
    "        df_temp = df_temp.loc[(df_temp['year_month'] >= int(str(year) + '01')) & \\\n",
    "                              (df_temp['year_month'] <= int(str(year) + '12'))]\n",
    "    \n",
    "        df_temp = df_temp.sort_values('year_month')\n",
    "        # display(df_temp)\n",
    "        df_temp = pd.DataFrame(df_temp.groupby(['ADM0_ISO', 'year_month', 'REF_AREA']).max('sum').reset_index())\n",
    "        df_temp = df_temp.dropna()\n",
    "        # display(df_temp)\n",
    "        if df_temp.empty:\n",
    "            return []\n",
    "        prompt_list = []\n",
    "        light_prompt_str = 'Nighttime light remote sensing data refers to the use of remote sensing technology to capture the distribution of lights on Earth at night. It can effectively reflect the spatial distribution of human activities and is therefore commonly used in remote sensing inversion of various socio-economic data. In this data, each pixel represents the light intensity of a geographical area of 500 meters by 500 meters. In this year, the total sum of light intensity of all pixels occupied by the country or region is {sum_}, the average is {mean_}. Based on this, what is the forecast for gross domestic product(GDP) growth in this year?'\n",
    " \n",
    "        sum_ = \"%.4f\" % df_temp['sum'].mean()\n",
    "        mean_ = \"%.4f\" % df_temp['mean'].mean()\n",
    "        norm_ = df_temp['norm'].mean()\n",
    "        prompt = light_prompt_str.format(sum_=sum_, mean_=mean_)\n",
    "        # print(prompt)\n",
    "        prompt_list.append((prompt, norm_))\n",
    "\n",
    "        return prompt_list\n",
    "\n",
    "    except:\n",
    "        return []\n"
   ]
  },
  {
   "cell_type": "code",
   "execution_count": null,
   "id": "ab26b7f6-421e-4b97-8296-3445113b93c6",
   "metadata": {},
   "outputs": [],
   "source": [
    "def run():\n",
    "    for country in country_list:\n",
    "        year_dict = {}\n",
    "        df_country = df_weo.loc[df_weo['Country Name'] == country]\n",
    "        year_list = df_country['year'].unique()\n",
    "\n",
    "        for year in year_list:\n",
    "            v_tensor_list = []\n",
    "            for i in range(len(select_v_list)):\n",
    "                v = select_v_list[i]\n",
    "            # for v in select_v_list:\n",
    "                value = df_country.loc[df_country['year'] == year][v].iloc[0]\n",
    "\n",
    "                if (np.isnan(value) == True) or (value == None):\n",
    "                    # v_tensor_list.append(np.zeros(6145))\n",
    "                    continue\n",
    "                    \n",
    "                else:\n",
    "                    norm_value = df_country.loc[df_country['year'] == year][v + '_norm'].iloc[0]\n",
    "                    value = \"%.4f\" % value\n",
    "                    prompt = get_prompt(v, value)\n",
    "\n",
    "                    tensor = get_representation(model, tokenizer, prompt, generation_config,\n",
    "                                                pixel_values=None)[-1][-1].cpu().float().numpy()\n",
    "                    tensor = np.append(tensor, i+1)\n",
    "                    tensor = np.append(tensor, norm_value)\n",
    "                    v_tensor_list.append(tensor)\n",
    "\n",
    "            if year > 2012:\n",
    "                prompt_list = use_light_data(df_country, year)\n",
    "                if prompt_list != []:\n",
    "                    for prompt in prompt_list:\n",
    "                        tensor = get_representation(model, tokenizer, prompt[0], generation_config,\n",
    "                                pixel_values=None)[-1][-1].cpu().float().numpy()\n",
    "                        tensor = np.append(tensor, 30)\n",
    "                        tensor = np.append(tensor, prompt[1])\n",
    "                        v_tensor_list.append(tensor)\n",
    "\n",
    "            year_dict[year] = [v_tensor_list, \n",
    "                               df_country.loc[df_country['year'] == year]['GDP growth (annual %)'].iloc[0]]\n",
    "        print(country)\n",
    "        pd.DataFrame(year_dict).to_json('results_mlp_13v_norm_light_sms/' + country + '.jsonl')"
   ]
  },
  {
   "cell_type": "code",
   "execution_count": null,
   "id": "5d4c09f6-9692-46ee-b68c-12c63ba903c4",
   "metadata": {},
   "outputs": [],
   "source": []
  },
  {
   "cell_type": "code",
   "execution_count": null,
   "id": "8700e2d1-9539-4c83-800b-66d6611a83b6",
   "metadata": {},
   "outputs": [],
   "source": []
  },
  {
   "cell_type": "code",
   "execution_count": null,
   "id": "61d8dfc6-67a5-45bb-a030-daeb9e9782df",
   "metadata": {},
   "outputs": [],
   "source": []
  },
  {
   "cell_type": "code",
   "execution_count": null,
   "id": "149a390d-87e2-4ea2-b160-1c63d4f6f526",
   "metadata": {},
   "outputs": [],
   "source": []
  },
  {
   "cell_type": "code",
   "execution_count": null,
   "id": "10ec297c-06cf-4b33-a75f-dae2cda59ca2",
   "metadata": {},
   "outputs": [],
   "source": []
  }
 ],
 "metadata": {
  "kernelspec": {
   "display_name": "py38",
   "language": "python",
   "name": "py38"
  },
  "language_info": {
   "codemirror_mode": {
    "name": "ipython",
    "version": 3
   },
   "file_extension": ".py",
   "mimetype": "text/x-python",
   "name": "python",
   "nbconvert_exporter": "python",
   "pygments_lexer": "ipython3",
   "version": "3.8.19"
  }
 },
 "nbformat": 4,
 "nbformat_minor": 5
}
