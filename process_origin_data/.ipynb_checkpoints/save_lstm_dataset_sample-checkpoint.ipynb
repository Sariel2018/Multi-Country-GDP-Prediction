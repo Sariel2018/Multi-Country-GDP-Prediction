{
 "cells": [
  {
   "cell_type": "code",
   "execution_count": null,
   "id": "93f59eb4-142e-4c6d-ab1c-e22f38a19493",
   "metadata": {},
   "outputs": [],
   "source": [
    "import os\n",
    "import pandas as pd\n",
    "import numpy as np\n",
    "os.environ[\"CUDA_VISIBLE_DEVICES\"]=\"0,1,2,3,4\""
   ]
  },
  {
   "cell_type": "code",
   "execution_count": null,
   "id": "fa9355af-0bb8-4f06-b595-6577e6b767ea",
   "metadata": {},
   "outputs": [],
   "source": [
    "df_weo = pd.read_csv('quarterly_data/df_res_light_data_sms.csv', index_col=0)\n",
    "df_weo.index = [x for x in range(len(df_weo))]\n",
    "df_weo"
   ]
  },
  {
   "cell_type": "code",
   "execution_count": null,
   "id": "0fa78e28-afb9-4dc9-be72-122876e35a60",
   "metadata": {},
   "outputs": [],
   "source": [
    "df_weo.columns"
   ]
  },
  {
   "cell_type": "code",
   "execution_count": null,
   "id": "9fb6273a-999d-44d8-a809-7f4365617bb3",
   "metadata": {},
   "outputs": [],
   "source": [
    "df_weo = df_weo.dropna(subset=['GDP'])\n",
    "df_weo.index = [x for x in range(len(df_weo))]"
   ]
  },
  {
   "cell_type": "code",
   "execution_count": null,
   "id": "6f4159ef-8ce0-4eab-8acf-e321b616c7dc",
   "metadata": {},
   "outputs": [],
   "source": [
    "df_weo"
   ]
  },
  {
   "cell_type": "code",
   "execution_count": null,
   "id": "0ec279f3-47f8-4b9c-8dd7-05ee429fed03",
   "metadata": {},
   "outputs": [],
   "source": [
    "df_weo['year'].unique().min()"
   ]
  },
  {
   "cell_type": "code",
   "execution_count": null,
   "id": "28e1caa0-2388-4cc4-9b42-70a6e340ff76",
   "metadata": {},
   "outputs": [],
   "source": [
    "df_weo['year'].unique().max()"
   ]
  },
  {
   "cell_type": "code",
   "execution_count": null,
   "id": "ddf99ea6-fcfb-4b76-a953-a807058407fe",
   "metadata": {},
   "outputs": [],
   "source": []
  },
  {
   "cell_type": "markdown",
   "id": "f998c4c4-93e5-4bb8-a254-f096268c9060",
   "metadata": {},
   "source": [
    "## Select time period"
   ]
  },
  {
   "cell_type": "code",
   "execution_count": null,
   "id": "13ef8790-99b6-403a-8f3e-23a074f0890a",
   "metadata": {},
   "outputs": [],
   "source": [
    "df_weo = df_weo.loc[(df_weo['year'] >= 2013) & (df_weo['year'] <= 2019)]\n",
    "# df_weo"
   ]
  },
  {
   "cell_type": "code",
   "execution_count": null,
   "id": "6f4c4c07-0a60-4ea7-b4ba-1efc81f33d66",
   "metadata": {
    "scrolled": true
   },
   "outputs": [],
   "source": [
    "df_filter = df_weo.dropna()\n",
    "df_filter"
   ]
  },
  {
   "cell_type": "code",
   "execution_count": null,
   "id": "61e4718d-dd38-4689-9d41-f7bd86037c92",
   "metadata": {},
   "outputs": [],
   "source": []
  },
  {
   "cell_type": "code",
   "execution_count": null,
   "id": "91ec107d-e700-4114-93c6-e06469a7d6be",
   "metadata": {},
   "outputs": [],
   "source": []
  },
  {
   "cell_type": "code",
   "execution_count": null,
   "id": "df6fe11c-d1e4-48be-87f8-c3e460146f34",
   "metadata": {},
   "outputs": [],
   "source": [
    "data_v = [\n",
    "        '出口金额', '工业', '股票市值', '国际收支金融账户差额',\n",
    "       '国际收支经常账户差额', '国际收支经常账户贷方', '国际收支经常账户借方', '国际收支资本账户差额', '国际收支资本账户贷方',\n",
    "       '国际收支资本账户借方', '国际收支差额', '国际投资头寸资产', '国际投资头寸负债', '国际投资头寸净额', '进口金额',\n",
    "       '名义有效汇率', '零售额', 'CPI', '失业率', '中央银行政策利率', \n",
    "        'sum', 'mean', 'std',\n",
    "        'GDP'\n",
    "]"
   ]
  },
  {
   "cell_type": "code",
   "execution_count": null,
   "id": "02c66767-3f4c-4395-b3b7-c6d63bea45e9",
   "metadata": {},
   "outputs": [],
   "source": [
    "label_v = ['GDP']"
   ]
  },
  {
   "cell_type": "code",
   "execution_count": null,
   "id": "a89477ca-26fa-44e7-9e5a-dc15aeecda6f",
   "metadata": {},
   "outputs": [],
   "source": []
  },
  {
   "cell_type": "code",
   "execution_count": null,
   "id": "2852c1eb-09db-4fcf-8cf7-9ba39c7b6808",
   "metadata": {},
   "outputs": [],
   "source": [
    "data = df_filter[data_v]"
   ]
  },
  {
   "cell_type": "code",
   "execution_count": null,
   "id": "12a4f8f7-6311-4803-b599-686251fe7700",
   "metadata": {},
   "outputs": [],
   "source": [
    "data.shape"
   ]
  },
  {
   "cell_type": "code",
   "execution_count": null,
   "id": "8844dde7-3664-4ac9-8aa1-f85b7c543751",
   "metadata": {
    "scrolled": true
   },
   "outputs": [],
   "source": [
    "df_filter"
   ]
  },
  {
   "cell_type": "code",
   "execution_count": null,
   "id": "1426efd8-15f6-45a0-a240-127714f8e990",
   "metadata": {},
   "outputs": [],
   "source": [
    "df_filter['GDP'].min()"
   ]
  },
  {
   "cell_type": "code",
   "execution_count": null,
   "id": "a4507c48-84c6-466f-8903-d5322bbd4693",
   "metadata": {},
   "outputs": [],
   "source": [
    "df_filter['GDP'].max()"
   ]
  },
  {
   "cell_type": "code",
   "execution_count": null,
   "id": "18b472ad-0d34-4fda-b55d-7f8082d260a0",
   "metadata": {},
   "outputs": [],
   "source": []
  },
  {
   "cell_type": "code",
   "execution_count": null,
   "id": "5b21ee1a-f4ad-498a-8c7a-c2a9150903b2",
   "metadata": {},
   "outputs": [],
   "source": []
  },
  {
   "cell_type": "code",
   "execution_count": null,
   "id": "84c3a3f7-7c5d-485b-882b-27d5c7be3492",
   "metadata": {},
   "outputs": [],
   "source": []
  },
  {
   "cell_type": "markdown",
   "id": "f47b8c1d-49c6-4781-b690-4a8985241cf7",
   "metadata": {},
   "source": [
    "## Create TST"
   ]
  },
  {
   "cell_type": "code",
   "execution_count": null,
   "id": "6f118331-c83a-4ab0-8a43-02a07d4efab2",
   "metadata": {},
   "outputs": [],
   "source": [
    "def create_continuous_time_series_data(df, country_col, year_col, quarter_col, indicator_cols, time_length):\n",
    "    # 按国家、年份和季度排序\n",
    "    df = df.sort_values(by=[country_col, year_col, quarter_col])\n",
    "\n",
    "    # 存储结果的列表\n",
    "    sequences = []\n",
    "    targets = []\n",
    "\n",
    "    # 获取所有国家的列表\n",
    "    countries = df[country_col].unique()\n",
    "\n",
    "    country_seq_list = []\n",
    "    country_target_list = []\n",
    "    # 遍历每个国家\n",
    "    for country in countries:\n",
    "        # 过滤出该国家的数据\n",
    "        country_data = df[df[country_col] == country]\n",
    "\n",
    "        # 获取年份和季度的数据\n",
    "        years = country_data[year_col].values\n",
    "        quarters = country_data[quarter_col].values\n",
    "\n",
    "        # 遍历每个数据点\n",
    "        for start_idx in range(len(years) - time_length):\n",
    "            end_idx = start_idx + time_length\n",
    "            if np.all(np.diff(years[start_idx:end_idx]) * 4 + np.diff(quarters[start_idx:end_idx]) == 1):  # 检查年份和季度是否连续\n",
    "                sequence = country_data.iloc[start_idx: end_idx][indicator_cols].values\n",
    "                target = country_data.iloc[end_idx:end_idx+1][indicator_cols].values\n",
    "                sequences.append(sequence)\n",
    "                targets.append(target[-1])\n",
    "        \n",
    "        \n",
    "    return np.array(sequences), np.array(targets)"
   ]
  },
  {
   "cell_type": "code",
   "execution_count": null,
   "id": "0e04e64b-af55-49ba-a5a6-6d2b316c5b16",
   "metadata": {},
   "outputs": [],
   "source": []
  },
  {
   "cell_type": "code",
   "execution_count": null,
   "id": "0424fa72-047c-4e11-ab87-0b9b41ec69e4",
   "metadata": {},
   "outputs": [],
   "source": [
    "country_list = df_filter['country'].unique()"
   ]
  },
  {
   "cell_type": "code",
   "execution_count": null,
   "id": "3924bacf-6472-4aa0-bda6-4a8e960b647b",
   "metadata": {},
   "outputs": [],
   "source": [
    "code_map = {}\n",
    "for i in range(len(country_list)):\n",
    "    code_map[country_list[i]] = i"
   ]
  },
  {
   "cell_type": "code",
   "execution_count": null,
   "id": "7c7c2df6-c709-49d7-9dc3-76b292e491a2",
   "metadata": {},
   "outputs": [],
   "source": []
  },
  {
   "cell_type": "code",
   "execution_count": null,
   "id": "4418b3f1-b3a3-457d-b1fd-f0cc07681326",
   "metadata": {},
   "outputs": [],
   "source": [
    "df_filter['country_code'] = df_filter['country'].apply(lambda x: code_map[x])"
   ]
  },
  {
   "cell_type": "code",
   "execution_count": null,
   "id": "677b47d0-bd63-4405-b177-4521d3ab8d00",
   "metadata": {},
   "outputs": [],
   "source": [
    "df_filter"
   ]
  },
  {
   "cell_type": "code",
   "execution_count": null,
   "id": "36bf3501-0952-4bf2-be5a-5a2b4b622197",
   "metadata": {},
   "outputs": [],
   "source": [
    "len(df_filter['country'].unique())"
   ]
  },
  {
   "cell_type": "code",
   "execution_count": null,
   "id": "e90cbd7e-9b67-40d0-adeb-6e2cf36d5655",
   "metadata": {},
   "outputs": [],
   "source": []
  },
  {
   "cell_type": "code",
   "execution_count": null,
   "id": "9ac851cd-8c38-4d75-befb-524e788adfb6",
   "metadata": {
    "scrolled": true
   },
   "outputs": [],
   "source": [
    "# 指定列名\n",
    "country_col = 'country'\n",
    "year_col = 'year'\n",
    "quarter_col = 'quarter'\n",
    "indicator_cols = [\n",
    "'出口金额', '工业', '股票市值', '国际收支金融账户差额',\n",
    "       '国际收支经常账户差额', '国际收支经常账户贷方', '国际收支经常账户借方', '国际收支资本账户差额', '国际收支资本账户贷方',\n",
    "       '国际收支资本账户借方', '国际收支差额', '国际投资头寸资产', '国际投资头寸负债', '国际投资头寸净额', '进口金额',\n",
    "       '名义有效汇率', '零售额', 'CPI', '失业率', '中央银行政策利率', \n",
    "    'sum', 'mean', 'std',\n",
    "    # 'mean',\n",
    "    # 'first', 'second', 'third',\n",
    "    'GDP', 'country_code', 'year', 'quarter'\n",
    "]\n",
    "\n"
   ]
  },
  {
   "cell_type": "code",
   "execution_count": null,
   "id": "f6f20814-d968-436f-a630-83192f215b0b",
   "metadata": {},
   "outputs": [],
   "source": []
  },
  {
   "cell_type": "code",
   "execution_count": null,
   "id": "65585377-281e-460a-9d69-f446f21d1a87",
   "metadata": {},
   "outputs": [],
   "source": [
    "import torch\n",
    "def save_data_label():\n",
    "    for time_length in [8, 10, 12]:\n",
    "        sequences, targets = create_continuous_time_series_data(df_filter, country_col, year_col, quarter_col, indicator_cols, time_length)\n",
    "        print(sequences.shape)\n",
    "        print(targets.shape)\n",
    "\n",
    "        # for \n",
    "        data = torch.Tensor(sequences)\n",
    "        data.size()\n",
    "\n",
    "        torch.save(data, 'dataset/LSTM_data_light_sms_q_t' + str(time_length) + '_13-19.pt')\n",
    "\n",
    "        labels = torch.Tensor(targets)\n",
    "        labels.size()\n",
    "\n",
    "        torch.save(labels, 'dataset/LSTM_label_light_sms_q_t' + str(time_length) + '_13-19.pt')\n",
    "\n",
    "        flattened_data = data.view(data.size()[0], -1)\n",
    "        flattened_data.size()\n",
    "\n",
    "        torch.save(flattened_data, 'dataset/LSTM_flattened_data_light_sms_q_t' + str(time_length) + '_13-19.pt')\n",
    "\n",
    "        print(flattened_data.size())"
   ]
  },
  {
   "cell_type": "code",
   "execution_count": null,
   "id": "832d6dab-0899-4586-9f81-a4ed1ab81929",
   "metadata": {},
   "outputs": [],
   "source": []
  },
  {
   "cell_type": "code",
   "execution_count": null,
   "id": "7b43e67f-6736-45e9-ae2b-685059c3e962",
   "metadata": {},
   "outputs": [],
   "source": [
    "save_data_label()"
   ]
  },
  {
   "cell_type": "code",
   "execution_count": null,
   "id": "e38b77f2-15ab-49cb-be5f-9ac893583706",
   "metadata": {},
   "outputs": [],
   "source": []
  },
  {
   "cell_type": "code",
   "execution_count": null,
   "id": "e3ebed0e-3972-42b1-9daf-71256d028740",
   "metadata": {},
   "outputs": [],
   "source": []
  },
  {
   "cell_type": "code",
   "execution_count": null,
   "id": "d5ba63ea-cdff-4bf8-bdbb-8d31a3bf4062",
   "metadata": {},
   "outputs": [],
   "source": []
  },
  {
   "cell_type": "code",
   "execution_count": null,
   "id": "e58911db-124d-4b59-85f4-30a22193c030",
   "metadata": {},
   "outputs": [],
   "source": []
  },
  {
   "cell_type": "code",
   "execution_count": null,
   "id": "306d766d-41c1-462a-8e09-700c45bf4802",
   "metadata": {},
   "outputs": [],
   "source": []
  }
 ],
 "metadata": {
  "kernelspec": {
   "display_name": "py38",
   "language": "python",
   "name": "py38"
  },
  "language_info": {
   "codemirror_mode": {
    "name": "ipython",
    "version": 3
   },
   "file_extension": ".py",
   "mimetype": "text/x-python",
   "name": "python",
   "nbconvert_exporter": "python",
   "pygments_lexer": "ipython3",
   "version": "3.8.19"
  }
 },
 "nbformat": 4,
 "nbformat_minor": 5
}
