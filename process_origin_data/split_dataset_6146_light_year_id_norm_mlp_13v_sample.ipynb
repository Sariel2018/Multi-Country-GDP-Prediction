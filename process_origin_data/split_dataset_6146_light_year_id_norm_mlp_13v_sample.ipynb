{
 "cells": [
  {
   "cell_type": "code",
   "execution_count": 1,
   "id": "0fd3f45a-d0a5-494e-9a49-663c85faea3e",
   "metadata": {},
   "outputs": [],
   "source": [
    "import os"
   ]
  },
  {
   "cell_type": "code",
   "execution_count": 2,
   "id": "88615876-2b8b-4e62-b810-8c67cae884e5",
   "metadata": {},
   "outputs": [],
   "source": [
    "import time"
   ]
  },
  {
   "cell_type": "code",
   "execution_count": 3,
   "id": "ec706249-1f22-42f7-94ee-d1ad68c08370",
   "metadata": {
    "editable": true,
    "slideshow": {
     "slide_type": ""
    },
    "tags": []
   },
   "outputs": [],
   "source": [
    "import torch\n",
    "from torch.utils.data import Dataset, DataLoader\n",
    "import json\n",
    "\n",
    "class CustomDataset(Dataset):\n",
    "    def __init__(self, jsonl_files, year, train=True):\n",
    "        self.data = []\n",
    "        self.targets = []\n",
    "        for file in jsonl_files:\n",
    "            if 'jsonl' not in file:\n",
    "                continue\n",
    "            \n",
    "            with open(file, 'r') as f:\n",
    "                for line in f:\n",
    "                    entry = json.loads(line)\n",
    "                    for key in entry.keys():\n",
    "                        if (2013 <= int(key) < year) and train:\n",
    "                            data_0 = torch.tensor(entry[key]['0'])\n",
    "                            \n",
    "                            self.data.append(data_0)\n",
    "                            self.targets.append(torch.tensor(entry[key]['1']))\n",
    "                            \n",
    "                        elif (year <= int(key) <= 2019) and (train is False):                \n",
    "                            data_0 = torch.tensor(entry[key]['0'])\n",
    "                            \n",
    "                            self.data.append(data_0)\n",
    "                            self.targets.append(torch.tensor(entry[key]['1']))\n",
    "\n",
    "    def __len__(self):\n",
    "        return len(self.targets)\n",
    "\n",
    "    def __getitem__(self, idx):\n",
    "        return self.data[idx], self.targets[idx]"
   ]
  },
  {
   "cell_type": "code",
   "execution_count": 4,
   "id": "1097b528-8017-4a3f-9012-88984f9a6234",
   "metadata": {
    "editable": true,
    "slideshow": {
     "slide_type": ""
    },
    "tags": []
   },
   "outputs": [],
   "source": [
    "# !pwd"
   ]
  },
  {
   "cell_type": "code",
   "execution_count": 5,
   "id": "bcb14af4-999e-4f03-80cb-b82b0b4e34e2",
   "metadata": {
    "editable": true,
    "scrolled": true,
    "slideshow": {
     "slide_type": ""
    },
    "tags": []
   },
   "outputs": [
    {
     "name": "stdout",
     "output_type": "stream",
     "text": [
      "Begin\n",
      "1725529951.1445055\n",
      "dataset completed. tim gap:  17.84382152557373\n"
     ]
    }
   ],
   "source": [
    "print('Begin')\n",
    "start_time = time.time()\n",
    "print(start_time)\n",
    "jsonl_file_path = 'yearly/Representation/results_mlp_13v_norm/'\n",
    "jsonl_files_list = os.listdir('yearly/Representation/results_mlp_13v_norm/')\n",
    "jsonl_files = [jsonl_file_path + x for x in jsonl_files_list]\n",
    "\n",
    "# 设置年份参数\n",
    "year = 2019\n",
    "\n",
    "# 创建训练集和测试集的数据集实例\n",
    "train_dataset = CustomDataset(jsonl_files, year, train=True)\n",
    "test_dataset = CustomDataset(jsonl_files, year, train=False)\n",
    "# todo: save dataset\n",
    "print('dataset completed. tim gap: ', time.time() - start_time)\n",
    "start_time = time.time()"
   ]
  },
  {
   "cell_type": "code",
   "execution_count": null,
   "id": "616c8da5-2999-448f-b09c-70c4ba04ee85",
   "metadata": {},
   "outputs": [],
   "source": []
  },
  {
   "cell_type": "code",
   "execution_count": 6,
   "id": "a0459d04-8ba2-4f07-9900-e368d9faa92e",
   "metadata": {},
   "outputs": [
    {
     "data": {
      "text/plain": [
       "115"
      ]
     },
     "execution_count": 6,
     "metadata": {},
     "output_type": "execute_result"
    }
   ],
   "source": [
    "len(train_dataset.data)"
   ]
  },
  {
   "cell_type": "code",
   "execution_count": 7,
   "id": "84a7f334-13b5-41d1-b09b-ae99e1a4f20e",
   "metadata": {},
   "outputs": [
    {
     "data": {
      "text/plain": [
       "torch.Size([13, 6146])"
      ]
     },
     "execution_count": 7,
     "metadata": {},
     "output_type": "execute_result"
    }
   ],
   "source": [
    "train_dataset.data[0].size()"
   ]
  },
  {
   "cell_type": "code",
   "execution_count": 8,
   "id": "9c41b96e-b32b-490b-91d3-03ff2a60d18f",
   "metadata": {},
   "outputs": [
    {
     "data": {
      "text/plain": [
       "tensor([-0.6211, -0.7539,  0.9180,  ...,  0.7109, 12.0000,  0.4690])"
      ]
     },
     "execution_count": 8,
     "metadata": {},
     "output_type": "execute_result"
    }
   ],
   "source": [
    "train_dataset.data[-1][-1]"
   ]
  },
  {
   "cell_type": "code",
   "execution_count": null,
   "id": "587c6f97-242a-4ddf-8438-46995bcde87d",
   "metadata": {},
   "outputs": [],
   "source": []
  },
  {
   "cell_type": "code",
   "execution_count": 9,
   "id": "f68e4b8c-10e7-49a7-8430-14ed70f1f9b1",
   "metadata": {},
   "outputs": [
    {
     "data": {
      "text/plain": [
       "20"
      ]
     },
     "execution_count": 9,
     "metadata": {},
     "output_type": "execute_result"
    }
   ],
   "source": [
    "len(test_dataset.data)"
   ]
  },
  {
   "cell_type": "code",
   "execution_count": 10,
   "id": "cda514c4-d1b5-4f5b-a3b9-bb2a8e57182f",
   "metadata": {},
   "outputs": [
    {
     "data": {
      "text/plain": [
       "torch.Size([13, 6146])"
      ]
     },
     "execution_count": 10,
     "metadata": {},
     "output_type": "execute_result"
    }
   ],
   "source": [
    "test_dataset.data[0].size()"
   ]
  },
  {
   "cell_type": "code",
   "execution_count": 14,
   "id": "0e2fd4b6-5499-4aec-a64a-71c17979df91",
   "metadata": {},
   "outputs": [
    {
     "data": {
      "text/plain": [
       "115"
      ]
     },
     "execution_count": 14,
     "metadata": {},
     "output_type": "execute_result"
    }
   ],
   "source": [
    "len(train_dataset.data)"
   ]
  },
  {
   "cell_type": "code",
   "execution_count": null,
   "id": "c964eb74-e091-4a1d-ba83-2405b66dfec3",
   "metadata": {},
   "outputs": [],
   "source": []
  },
  {
   "cell_type": "code",
   "execution_count": null,
   "id": "27940111-b5d4-4aa2-bae1-bcfedf7aeb5c",
   "metadata": {},
   "outputs": [],
   "source": []
  },
  {
   "cell_type": "code",
   "execution_count": 11,
   "id": "6f883a72-9d52-4fec-9f2d-3e21a365db27",
   "metadata": {},
   "outputs": [],
   "source": [
    "# 保存Dataset对象的状态\n",
    "torch.save(train_dataset, '../dataset_RT/train_dataset_mlp_13v_id_norm_6146_13-19.pth')\n",
    "torch.save(test_dataset, '../dataset_RT/test_dataset_mlp_13v_id_norm_6146_13-19.pth')"
   ]
  },
  {
   "cell_type": "code",
   "execution_count": null,
   "id": "1e47c67d-e0fa-471e-a8e8-37bc5523ca8e",
   "metadata": {},
   "outputs": [],
   "source": []
  },
  {
   "cell_type": "code",
   "execution_count": null,
   "id": "14853144-11e5-4f8d-82be-9c64ae424f43",
   "metadata": {},
   "outputs": [],
   "source": []
  },
  {
   "cell_type": "code",
   "execution_count": null,
   "id": "827fc828-d7ac-455a-b8cc-729b757a31d4",
   "metadata": {},
   "outputs": [],
   "source": []
  },
  {
   "cell_type": "code",
   "execution_count": null,
   "id": "10865c73-15e8-4efd-8940-c514b69547a0",
   "metadata": {},
   "outputs": [],
   "source": []
  },
  {
   "cell_type": "code",
   "execution_count": null,
   "id": "f6e6a9fd-baea-451a-b032-53fe95769906",
   "metadata": {},
   "outputs": [],
   "source": []
  },
  {
   "cell_type": "code",
   "execution_count": null,
   "id": "9aec2984-240a-482d-9fbf-162f8432a462",
   "metadata": {},
   "outputs": [],
   "source": []
  },
  {
   "cell_type": "code",
   "execution_count": null,
   "id": "30cc15db-6c35-4512-830d-37672cabed03",
   "metadata": {
    "editable": true,
    "slideshow": {
     "slide_type": ""
    },
    "tags": []
   },
   "outputs": [],
   "source": []
  },
  {
   "cell_type": "code",
   "execution_count": null,
   "id": "8e4e631d-35eb-4eee-96c9-222fb6d6560c",
   "metadata": {},
   "outputs": [],
   "source": []
  }
 ],
 "metadata": {
  "kernelspec": {
   "display_name": "py38",
   "language": "python",
   "name": "py38"
  },
  "language_info": {
   "codemirror_mode": {
    "name": "ipython",
    "version": 3
   },
   "file_extension": ".py",
   "mimetype": "text/x-python",
   "name": "python",
   "nbconvert_exporter": "python",
   "pygments_lexer": "ipython3",
   "version": "3.8.19"
  }
 },
 "nbformat": 4,
 "nbformat_minor": 5
}
