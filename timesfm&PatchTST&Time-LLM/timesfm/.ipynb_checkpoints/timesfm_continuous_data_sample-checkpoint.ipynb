{
 "cells": [
  {
   "cell_type": "code",
   "execution_count": null,
   "id": "07d3da2e-f4f5-4b5f-b11e-07b7307c2bd7",
   "metadata": {},
   "outputs": [],
   "source": [
    "import pandas as pd\n",
    "import numpy as np"
   ]
  },
  {
   "cell_type": "code",
   "execution_count": null,
   "id": "3455abe5-334e-4718-9848-d57af05bed25",
   "metadata": {},
   "outputs": [],
   "source": [
    "import os\n",
    "os.environ[\"CUDA_VISIBLE_DEVICES\"]=\"0,1,2,3,4\""
   ]
  },
  {
   "cell_type": "code",
   "execution_count": null,
   "id": "02d0b527-348f-4c89-82e4-cf7a37292d23",
   "metadata": {},
   "outputs": [],
   "source": [
    "import timesfm"
   ]
  },
  {
   "cell_type": "markdown",
   "id": "8cc5c557-283d-40df-896a-e7bcd8c2bf30",
   "metadata": {},
   "source": [
    "## Load model"
   ]
  },
  {
   "cell_type": "code",
   "execution_count": null,
   "id": "8380cb52-f5ea-4a04-8ef0-719258d7ed0e",
   "metadata": {},
   "outputs": [],
   "source": [
    "tfm = timesfm.TimesFm(\n",
    "    context_len=512,\n",
    "    horizon_len=1,\n",
    "    input_patch_len=32,\n",
    "    output_patch_len=128,\n",
    "    num_layers=20,\n",
    "    model_dims=1280,\n",
    "    backend=\"gpu\",\n",
    ")"
   ]
  },
  {
   "cell_type": "code",
   "execution_count": null,
   "id": "90eb712b-4cf5-495e-aac5-394d078c6fcd",
   "metadata": {},
   "outputs": [],
   "source": [
    "tfm.load_from_checkpoint(checkpoint_path=\"~/timesfm-1.0-200m/checkpoints\")"
   ]
  },
  {
   "cell_type": "markdown",
   "id": "1c19be49-a2d3-4747-b544-87beba7920bb",
   "metadata": {},
   "source": [
    "## Load data"
   ]
  },
  {
   "cell_type": "code",
   "execution_count": null,
   "id": "c8ec4364-4698-4926-9059-8d6fa41e0a10",
   "metadata": {},
   "outputs": [],
   "source": [
    "df_weo = pd.read_csv('../../quarterly_data/df_res_gdp_more.csv', index_col=0)\n",
    "df_weo = df_weo.dropna(subset=['GDP'])\n",
    "df_weo.index = [x for x in range(len(df_weo))]\n",
    "df_filter = df_weo.dropna().iloc[:, :3]\n",
    "df_filter.columns = ['ds', 'unique_id', 'y']\n",
    "df_filter['ds'] = pd.to_datetime(df_filter['ds'])"
   ]
  },
  {
   "cell_type": "code",
   "execution_count": null,
   "id": "afe0c857-ac72-47f1-a663-da29ba09c8ba",
   "metadata": {},
   "outputs": [],
   "source": [
    "df_filter = df_filter.sort_values(['unique_id', 'ds'])"
   ]
  },
  {
   "cell_type": "code",
   "execution_count": null,
   "id": "460d068d-b677-4655-9ba7-b3eee8d82366",
   "metadata": {},
   "outputs": [],
   "source": [
    "df_filter['ds'].min()"
   ]
  },
  {
   "cell_type": "code",
   "execution_count": null,
   "id": "a027a60e-85df-436c-8126-2e35afd12fd5",
   "metadata": {},
   "outputs": [],
   "source": [
    "df_filter['ds'].max()"
   ]
  },
  {
   "cell_type": "code",
   "execution_count": null,
   "id": "93651a56-a989-47d7-b412-2e0ca1e9d479",
   "metadata": {},
   "outputs": [],
   "source": [
    "df_filter = df_filter.loc[(df_filter['ds'] >= '1995-01-01') & (df_filter['ds'] <= '2019-12-31')]\n",
    "df_filter.tail()"
   ]
  },
  {
   "cell_type": "code",
   "execution_count": null,
   "id": "0087accb-2fac-4888-a4ea-0e08edd44ac1",
   "metadata": {},
   "outputs": [],
   "source": [
    "df_filter['y'].min()"
   ]
  },
  {
   "cell_type": "code",
   "execution_count": null,
   "id": "18f20f0f-7160-4d80-9c4d-160f51040ab1",
   "metadata": {},
   "outputs": [],
   "source": [
    "df_filter['y'].max()"
   ]
  },
  {
   "cell_type": "code",
   "execution_count": null,
   "id": "91b62e2b-4362-49e9-8d29-87ced0f193ce",
   "metadata": {},
   "outputs": [],
   "source": []
  },
  {
   "cell_type": "code",
   "execution_count": null,
   "id": "00249fba-6624-4c4f-be0f-1bb73c038405",
   "metadata": {},
   "outputs": [],
   "source": []
  },
  {
   "cell_type": "markdown",
   "id": "e487cde4-a026-4734-b06c-3330d5548cfa",
   "metadata": {},
   "source": [
    "## NORM"
   ]
  },
  {
   "cell_type": "code",
   "execution_count": null,
   "id": "09e2d190-3db4-4246-a060-6288fa8e8222",
   "metadata": {},
   "outputs": [],
   "source": [
    "def norm(col):\n",
    "    return (col - col.min())/(col.max() - col.min())"
   ]
  },
  {
   "cell_type": "code",
   "execution_count": null,
   "id": "71a6ba56-e6a9-4796-92a8-2bd76f8d696f",
   "metadata": {},
   "outputs": [],
   "source": [
    "for v in ['y']:\n",
    "    df_filter[v] = df_filter[[v]].apply(lambda col: norm(col), axis=0)"
   ]
  },
  {
   "cell_type": "code",
   "execution_count": null,
   "id": "9bbfac6f-3667-4a2e-b529-758783e4d38d",
   "metadata": {},
   "outputs": [],
   "source": [
    "df_filter.tail()"
   ]
  },
  {
   "cell_type": "code",
   "execution_count": null,
   "id": "7d72fe77-3514-4082-a97f-76c78f9314d4",
   "metadata": {},
   "outputs": [],
   "source": []
  },
  {
   "cell_type": "code",
   "execution_count": null,
   "id": "48e42f8e-52c7-4fc6-9219-5ba85aaabaee",
   "metadata": {},
   "outputs": [],
   "source": [
    "def reverse_norm(row):\n",
    "    min_value = -12.9\n",
    "    max_value = 72.32\n",
    "    gap = max_value - min_value\n",
    "    return row * gap + min_value"
   ]
  },
  {
   "cell_type": "code",
   "execution_count": null,
   "id": "017d2c48-c63c-465f-8378-961eae936c2c",
   "metadata": {},
   "outputs": [],
   "source": []
  },
  {
   "cell_type": "markdown",
   "id": "927813f2-b43b-46c3-b87e-8f8f609a0591",
   "metadata": {},
   "source": [
    "## Run"
   ]
  },
  {
   "cell_type": "code",
   "execution_count": null,
   "id": "0fd285b4-150f-4d05-a410-6b56fd6eb09a",
   "metadata": {},
   "outputs": [],
   "source": [
    "import pandas as pd\n",
    "\n",
    "# 定义一个函数来划分训练集和测试集\n",
    "def split_train_test_by_year_and_quarter(df, unique_id_col, date_col, train_start_year, train_start_quarter, train_end_year, train_end_quarter, test_start_year, test_start_quarter, test_end_year, test_end_quarter):\n",
    "    train_list = []\n",
    "    test_list = []\n",
    "\n",
    "    for unique_id in df[unique_id_col].unique():\n",
    "        # 筛选出特定ID的数据\n",
    "        df_id = df[df[unique_id_col] == unique_id]\n",
    "        \n",
    "        # 提取年份和季度\n",
    "        df_id['year'] = df_id[date_col].dt.year\n",
    "        df_id['quarter'] = df_id[date_col].dt.quarter\n",
    "\n",
    "        # 筛选训练集\n",
    "        train_df_id = df_id[\n",
    "            ((df_id['year'] > train_start_year) | ((df_id['year'] == train_start_year) & (df_id['quarter'] >= train_start_quarter))) &\n",
    "            ((df_id['year'] < train_end_year) | ((df_id['year'] == train_end_year) & (df_id['quarter'] <= train_end_quarter)))\n",
    "        ]\n",
    "        train_list.append(train_df_id)\n",
    "\n",
    "        # 筛选测试集\n",
    "        test_df_id = df_id[\n",
    "            ((df_id['year'] > test_start_year) | ((df_id['year'] == test_start_year) & (df_id['quarter'] >= test_start_quarter))) &\n",
    "            ((df_id['year'] < test_end_year) | ((df_id['year'] == test_end_year) & (df_id['quarter'] <= test_end_quarter)))\n",
    "        ]\n",
    "        test_list.append(test_df_id)\n",
    "\n",
    "    train_df = pd.concat(train_list)\n",
    "    test_df = pd.concat(test_list)\n",
    "    \n",
    "    return train_df, test_df\n"
   ]
  },
  {
   "cell_type": "code",
   "execution_count": null,
   "id": "083430e1-0d34-4a02-a83d-a13bb223439c",
   "metadata": {},
   "outputs": [],
   "source": [
    "def get_rolling_res(df_filter):\n",
    "    # 使用函数划分训练集和测试集\n",
    "    train_start_year = 1995\n",
    "    train_start_quarter = 1\n",
    "\n",
    "    test_end_year = 2019\n",
    "    test_end_quarter = 4\n",
    "\n",
    "    split_time = 2018\n",
    "\n",
    "    df_res_list = []\n",
    "    for year in range(split_time, 2019+1):\n",
    "        for quarter in range(1, 4+1):\n",
    "            test_start_year = year\n",
    "            test_start_quarter = quarter\n",
    "            \n",
    "            if quarter == 1:\n",
    "                train_end_year = test_start_year - 1\n",
    "                train_end_quarter = 4\n",
    "            else:\n",
    "                train_end_year = test_start_year\n",
    "                train_end_quarter = test_start_quarter - 1\n",
    "\n",
    "            print(\"train_end_year, train_end_quarter, test_start_year, test_start_quarter:\")\n",
    "            print(train_end_year, train_end_quarter, test_start_year, test_start_quarter)\n",
    "    \n",
    "    \n",
    "            train_df, test_df = split_train_test_by_year_and_quarter(df_filter, 'unique_id', 'ds', train_start_year, train_start_quarter, train_end_year, train_end_quarter,\n",
    "                                                                     test_start_year, test_start_quarter, test_end_year, test_end_quarter)\n",
    "            print('test_start: ', year, ' year ', quarter, ' quarter')\n",
    "            print(len(train_df), len(test_df))\n",
    "            forecast_df2 = tfm.forecast_on_df(\n",
    "                inputs=train_df,\n",
    "                freq=\"Q\",  \n",
    "                value_name=\"y\",\n",
    "                num_jobs=-1,\n",
    "            )\n",
    "            \n",
    "            df_res = pd.merge(test_df, forecast_df2[['ds', 'unique_id', 'timesfm']],\n",
    "                     how='left', on=['ds', 'unique_id']).dropna()\n",
    "            print(len(df_res))\n",
    "            df_res_list.append(df_res)\n",
    "    return pd.concat(df_res_list)"
   ]
  },
  {
   "cell_type": "code",
   "execution_count": null,
   "id": "7f345241-7bc0-4aa9-8185-0d9b40b938c0",
   "metadata": {},
   "outputs": [],
   "source": []
  },
  {
   "cell_type": "code",
   "execution_count": null,
   "id": "5961790e-8baa-4536-b959-f7b5ee8606b1",
   "metadata": {
    "scrolled": true
   },
   "outputs": [],
   "source": [
    "df_res = get_rolling_res(df_filter)"
   ]
  },
  {
   "cell_type": "code",
   "execution_count": null,
   "id": "d2100572-51d7-40c0-92a7-fd528623d54b",
   "metadata": {
    "scrolled": true
   },
   "outputs": [],
   "source": [
    "df_res"
   ]
  },
  {
   "cell_type": "markdown",
   "id": "509b9b0b-b8c4-4ffe-9f80-594941e79b3a",
   "metadata": {},
   "source": [
    "## reverse norm"
   ]
  },
  {
   "cell_type": "code",
   "execution_count": null,
   "id": "ea3d740c-2244-4b4f-b296-04c8c9bb2de4",
   "metadata": {},
   "outputs": [],
   "source": [
    "df_res['y'] = df_res['y'].apply(lambda x: reverse_norm(x))\n",
    "df_res['timesfm'] = df_res['timesfm'].apply(lambda x: reverse_norm(x))"
   ]
  },
  {
   "cell_type": "code",
   "execution_count": null,
   "id": "2a678d26-5308-49b3-aec2-06cfde618683",
   "metadata": {
    "scrolled": true
   },
   "outputs": [],
   "source": [
    "df_res"
   ]
  },
  {
   "cell_type": "markdown",
   "id": "d192932a-2516-450d-83a2-af362b0a8682",
   "metadata": {},
   "source": [
    "## Eval"
   ]
  },
  {
   "cell_type": "code",
   "execution_count": null,
   "id": "db88b886-535e-4ae7-9369-6f44a2e6259e",
   "metadata": {},
   "outputs": [],
   "source": [
    "from utils.metrics import metric\n",
    "import torch"
   ]
  },
  {
   "cell_type": "code",
   "execution_count": null,
   "id": "dca41fce-44de-4d18-9cd6-0f3798c67cb8",
   "metadata": {},
   "outputs": [],
   "source": [
    "# mae, mse, rmse, mape, mspe, rse, corr\n",
    "metric(torch.Tensor(df_res['y'].values),\n",
    "      torch.Tensor(df_res['timesfm'].values))"
   ]
  },
  {
   "cell_type": "code",
   "execution_count": null,
   "id": "d1ddcd3f-f559-4907-bf0a-22823b70db26",
   "metadata": {},
   "outputs": [],
   "source": []
  },
  {
   "cell_type": "code",
   "execution_count": null,
   "id": "126e4f9e-2a9d-41d3-aea0-7f6e52f6399e",
   "metadata": {},
   "outputs": [],
   "source": []
  },
  {
   "cell_type": "code",
   "execution_count": null,
   "id": "98b1f4bf-a755-4fa3-bf66-f3102c7046b9",
   "metadata": {},
   "outputs": [],
   "source": []
  },
  {
   "cell_type": "code",
   "execution_count": null,
   "id": "f6d3e791-9c10-4566-a90b-05ade1d94d2e",
   "metadata": {},
   "outputs": [],
   "source": []
  },
  {
   "cell_type": "code",
   "execution_count": null,
   "id": "8a150732-2d04-4dfd-843c-1fe9adfa913b",
   "metadata": {},
   "outputs": [],
   "source": []
  },
  {
   "cell_type": "code",
   "execution_count": null,
   "id": "85d359ec-fc4f-484a-a16a-e3cdad5e6375",
   "metadata": {},
   "outputs": [],
   "source": []
  },
  {
   "cell_type": "code",
   "execution_count": null,
   "id": "1245b9ad-deb7-4063-8c44-b4a7ea65d0fd",
   "metadata": {},
   "outputs": [],
   "source": []
  },
  {
   "cell_type": "code",
   "execution_count": null,
   "id": "94ab77f5-560f-4f8f-bcaa-17626601bf96",
   "metadata": {},
   "outputs": [],
   "source": []
  },
  {
   "cell_type": "code",
   "execution_count": null,
   "id": "e089369e-0157-481f-beb3-94336266282b",
   "metadata": {},
   "outputs": [],
   "source": []
  },
  {
   "cell_type": "code",
   "execution_count": null,
   "id": "bc90f011-1621-457b-9611-aa77a9fa7f95",
   "metadata": {},
   "outputs": [],
   "source": []
  }
 ],
 "metadata": {
  "kernelspec": {
   "display_name": "Python (py310)",
   "language": "python",
   "name": "py310"
  },
  "language_info": {
   "codemirror_mode": {
    "name": "ipython",
    "version": 3
   },
   "file_extension": ".py",
   "mimetype": "text/x-python",
   "name": "python",
   "nbconvert_exporter": "python",
   "pygments_lexer": "ipython3",
   "version": "3.10.14"
  }
 },
 "nbformat": 4,
 "nbformat_minor": 5
}
